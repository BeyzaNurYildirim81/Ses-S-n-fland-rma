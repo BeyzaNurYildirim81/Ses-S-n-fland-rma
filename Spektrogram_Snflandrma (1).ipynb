{
 "cells": [
  {
   "cell_type": "code",
   "execution_count": 2,
   "id": "4424a97e",
   "metadata": {},
   "outputs": [
    {
     "name": "stdout",
     "output_type": "stream",
     "text": [
      "dosya mevcut\n"
     ]
    }
   ],
   "source": [
    "import os\n",
    "dosya_yolu = \"/home/physicist/Desktop/spectrograms/\"\n",
    "os.chdir(dosya_yolu)\n",
    "os.listdir()\n",
    "dosyalar = os.listdir()\n",
    "if os.path.exists(dosya_yolu+\"GraySpectrograms\"):\n",
    "    print(\"dosya mevcut\")\n",
    "    dosyalar = list(filter(lambda x: x != \"GraySpectrograms\", dosyalar))\n",
    "else:\n",
    "    os.mkdir(\"GraySpectrograms\")"
   ]
  },
  {
   "cell_type": "code",
   "execution_count": 3,
   "id": "4b94989a",
   "metadata": {},
   "outputs": [],
   "source": [
    "kılavuz = {'0':\"air_conditioner\",'1':\"car_horn\",'2':\"children_playing\",'3':\"dog_bark\",'4':\"drilling\",'5':\"engine_idling\",\n",
    "           '6':\"gun_shot\",'7':\"jackhammer\",'8':\"siren\",'9':\"street_music\"}"
   ]
  },
  {
   "cell_type": "code",
   "execution_count": 4,
   "id": "00dc929d",
   "metadata": {},
   "outputs": [],
   "source": [
    "import cv2\n",
    "import numpy as np\n",
    "etiketli_veri = []\n",
    "for kategori in dosyalar:\n",
    "    konum=dosya_yolu+kategori\n",
    "    resimler=os.listdir(konum)\n",
    "    for resim in resimler:\n",
    "        yol=konum+\"/\"+resim\n",
    "        gri_yol = dosya_yolu+\"GraySpectrograms/\"+resim\n",
    "        görsel = cv2.imread(yol)\n",
    "        gri_görsel = cv2.cvtColor(görsel, cv2.COLOR_BGR2GRAY)\n",
    "        mini_gri_görsel = cv2.resize(gri_görsel, (0, 0), fx = 0.5, fy = 0.5)\n",
    "        norm_gri_görsel = cv2.normalize(mini_gri_görsel, dst=None, alpha=0, beta=65535, norm_type=cv2.NORM_MINMAX)\n",
    "        cv2.imwrite(gri_yol,norm_gri_görsel)\n",
    "        etiketli_veri.append([resim,kılavuz[kategori]])"
   ]
  },
  {
   "cell_type": "code",
   "execution_count": 7,
   "id": "30f8fcb5",
   "metadata": {},
   "outputs": [],
   "source": [
    "x = []\n",
    "y = []\n",
    "length = len(etiketli_veri)\n",
    "for i in range(0,length):\n",
    "    x.append([etiketli_veri[i][0]])\n",
    "    y.append([etiketli_veri[i][1]])"
   ]
  },
  {
   "cell_type": "code",
   "execution_count": 8,
   "id": "f54490c7",
   "metadata": {},
   "outputs": [],
   "source": [
    "from sklearn.model_selection import train_test_split\n",
    "X_train, X_test, y_train, y_test = train_test_split(x, y, test_size=0.2, random_state=3)\n",
    "X_train, X_val, y_train, y_val = train_test_split(X_train, y_train, \n",
    "    test_size=0.2, random_state= 3)"
   ]
  },
  {
   "cell_type": "code",
   "execution_count": 21,
   "id": "ce5e08a0",
   "metadata": {},
   "outputs": [],
   "source": [
    "import pandas as pd\n",
    "eğitim_çıktı = {\"X_train\":X_train,\"y_train\":y_train}\n",
    "test_çıktı = {\"X_test\":X_test,\"y_test\":y_test}\n",
    "validation_çıktı = {\"X_val\":X_val,\"y_val\":y_val}\n",
    "eğitim = pd.DataFrame(eğitim_çıktı)\n",
    "eğitim.to_csv(dosya_yolu+\"train.csv\")\n",
    "test = pd.DataFrame(test_çıktı)\n",
    "test.to_csv(dosya_yolu+\"test.csv\")\n",
    "val = pd.DataFrame(validation_çıktı)\n",
    "val.to_csv(dosya_yolu+\"val.csv\")"
   ]
  },
  {
   "cell_type": "code",
   "execution_count": null,
   "id": "122e40a0",
   "metadata": {},
   "outputs": [],
   "source": []
  }
 ],
 "metadata": {
  "kernelspec": {
   "display_name": "Python 3 (ipykernel)",
   "language": "python",
   "name": "python3"
  },
  "language_info": {
   "codemirror_mode": {
    "name": "ipython",
    "version": 3
   },
   "file_extension": ".py",
   "mimetype": "text/x-python",
   "name": "python",
   "nbconvert_exporter": "python",
   "pygments_lexer": "ipython3",
   "version": "3.10.6"
  }
 },
 "nbformat": 4,
 "nbformat_minor": 5
}
